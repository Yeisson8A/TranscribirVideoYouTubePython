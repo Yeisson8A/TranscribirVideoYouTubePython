{
  "nbformat": 4,
  "nbformat_minor": 0,
  "metadata": {
    "colab": {
      "provenance": []
    },
    "kernelspec": {
      "name": "python3",
      "display_name": "Python 3"
    },
    "language_info": {
      "name": "python"
    }
  },
  "cells": [
    {
      "cell_type": "code",
      "execution_count": 1,
      "metadata": {
        "colab": {
          "base_uri": "https://localhost:8080/"
        },
        "id": "-w8L1ts-M_VI",
        "outputId": "0d5dae20-36e2-4f4f-bf02-4bbe01ccca5e"
      },
      "outputs": [
        {
          "output_type": "stream",
          "name": "stdout",
          "text": [
            "Collecting youtube_transcript_api\n",
            "  Downloading youtube_transcript_api-0.6.3-py3-none-any.whl.metadata (17 kB)\n",
            "Requirement already satisfied: defusedxml<0.8.0,>=0.7.1 in /usr/local/lib/python3.10/dist-packages (from youtube_transcript_api) (0.7.1)\n",
            "Requirement already satisfied: requests in /usr/local/lib/python3.10/dist-packages (from youtube_transcript_api) (2.32.3)\n",
            "Requirement already satisfied: charset-normalizer<4,>=2 in /usr/local/lib/python3.10/dist-packages (from requests->youtube_transcript_api) (3.4.0)\n",
            "Requirement already satisfied: idna<4,>=2.5 in /usr/local/lib/python3.10/dist-packages (from requests->youtube_transcript_api) (3.10)\n",
            "Requirement already satisfied: urllib3<3,>=1.21.1 in /usr/local/lib/python3.10/dist-packages (from requests->youtube_transcript_api) (2.2.3)\n",
            "Requirement already satisfied: certifi>=2017.4.17 in /usr/local/lib/python3.10/dist-packages (from requests->youtube_transcript_api) (2024.12.14)\n",
            "Downloading youtube_transcript_api-0.6.3-py3-none-any.whl (622 kB)\n",
            "\u001b[?25l   \u001b[90m━━━━━━━━━━━━━━━━━━━━━━━━━━━━━━━━━━━━━━━━\u001b[0m \u001b[32m0.0/622.3 kB\u001b[0m \u001b[31m?\u001b[0m eta \u001b[36m-:--:--\u001b[0m\r\u001b[2K   \u001b[91m━━━━━━━━━\u001b[0m\u001b[90m╺\u001b[0m\u001b[90m━━━━━━━━━━━━━━━━━━━━━━━━━━━━━━\u001b[0m \u001b[32m143.4/622.3 kB\u001b[0m \u001b[31m4.4 MB/s\u001b[0m eta \u001b[36m0:00:01\u001b[0m\r\u001b[2K   \u001b[91m━━━━━━━━━━━━━━━━━━━━━━━━━━━━━━━━━━━━━━━\u001b[0m\u001b[90m╺\u001b[0m \u001b[32m614.4/622.3 kB\u001b[0m \u001b[31m9.6 MB/s\u001b[0m eta \u001b[36m0:00:01\u001b[0m\r\u001b[2K   \u001b[90m━━━━━━━━━━━━━━━━━━━━━━━━━━━━━━━━━━━━━━━━\u001b[0m \u001b[32m622.3/622.3 kB\u001b[0m \u001b[31m8.0 MB/s\u001b[0m eta \u001b[36m0:00:00\u001b[0m\n",
            "\u001b[?25hInstalling collected packages: youtube_transcript_api\n",
            "Successfully installed youtube_transcript_api-0.6.3\n"
          ]
        }
      ],
      "source": [
        "pip install youtube_transcript_api"
      ]
    },
    {
      "cell_type": "code",
      "source": [
        "pip install google_generativeai"
      ],
      "metadata": {
        "colab": {
          "base_uri": "https://localhost:8080/"
        },
        "id": "0Kb-qmErNNr6",
        "outputId": "b97f7523-bd83-49f5-e34a-7f340c882ca4"
      },
      "execution_count": 2,
      "outputs": [
        {
          "output_type": "stream",
          "name": "stdout",
          "text": [
            "Requirement already satisfied: google_generativeai in /usr/local/lib/python3.10/dist-packages (0.8.3)\n",
            "Requirement already satisfied: google-ai-generativelanguage==0.6.10 in /usr/local/lib/python3.10/dist-packages (from google_generativeai) (0.6.10)\n",
            "Requirement already satisfied: google-api-core in /usr/local/lib/python3.10/dist-packages (from google_generativeai) (2.19.2)\n",
            "Requirement already satisfied: google-api-python-client in /usr/local/lib/python3.10/dist-packages (from google_generativeai) (2.155.0)\n",
            "Requirement already satisfied: google-auth>=2.15.0 in /usr/local/lib/python3.10/dist-packages (from google_generativeai) (2.27.0)\n",
            "Requirement already satisfied: protobuf in /usr/local/lib/python3.10/dist-packages (from google_generativeai) (4.25.5)\n",
            "Requirement already satisfied: pydantic in /usr/local/lib/python3.10/dist-packages (from google_generativeai) (2.10.3)\n",
            "Requirement already satisfied: tqdm in /usr/local/lib/python3.10/dist-packages (from google_generativeai) (4.67.1)\n",
            "Requirement already satisfied: typing-extensions in /usr/local/lib/python3.10/dist-packages (from google_generativeai) (4.12.2)\n",
            "Requirement already satisfied: proto-plus<2.0.0dev,>=1.22.3 in /usr/local/lib/python3.10/dist-packages (from google-ai-generativelanguage==0.6.10->google_generativeai) (1.25.0)\n",
            "Requirement already satisfied: googleapis-common-protos<2.0.dev0,>=1.56.2 in /usr/local/lib/python3.10/dist-packages (from google-api-core->google_generativeai) (1.66.0)\n",
            "Requirement already satisfied: requests<3.0.0.dev0,>=2.18.0 in /usr/local/lib/python3.10/dist-packages (from google-api-core->google_generativeai) (2.32.3)\n",
            "Requirement already satisfied: cachetools<6.0,>=2.0.0 in /usr/local/lib/python3.10/dist-packages (from google-auth>=2.15.0->google_generativeai) (5.5.0)\n",
            "Requirement already satisfied: pyasn1-modules>=0.2.1 in /usr/local/lib/python3.10/dist-packages (from google-auth>=2.15.0->google_generativeai) (0.4.1)\n",
            "Requirement already satisfied: rsa<5,>=3.1.4 in /usr/local/lib/python3.10/dist-packages (from google-auth>=2.15.0->google_generativeai) (4.9)\n",
            "Requirement already satisfied: httplib2<1.dev0,>=0.19.0 in /usr/local/lib/python3.10/dist-packages (from google-api-python-client->google_generativeai) (0.22.0)\n",
            "Requirement already satisfied: google-auth-httplib2<1.0.0,>=0.2.0 in /usr/local/lib/python3.10/dist-packages (from google-api-python-client->google_generativeai) (0.2.0)\n",
            "Requirement already satisfied: uritemplate<5,>=3.0.1 in /usr/local/lib/python3.10/dist-packages (from google-api-python-client->google_generativeai) (4.1.1)\n",
            "Requirement already satisfied: annotated-types>=0.6.0 in /usr/local/lib/python3.10/dist-packages (from pydantic->google_generativeai) (0.7.0)\n",
            "Requirement already satisfied: pydantic-core==2.27.1 in /usr/local/lib/python3.10/dist-packages (from pydantic->google_generativeai) (2.27.1)\n",
            "Requirement already satisfied: grpcio<2.0dev,>=1.33.2 in /usr/local/lib/python3.10/dist-packages (from google-api-core[grpc]!=2.0.*,!=2.1.*,!=2.10.*,!=2.2.*,!=2.3.*,!=2.4.*,!=2.5.*,!=2.6.*,!=2.7.*,!=2.8.*,!=2.9.*,<3.0.0dev,>=1.34.1->google-ai-generativelanguage==0.6.10->google_generativeai) (1.68.1)\n",
            "Requirement already satisfied: grpcio-status<2.0.dev0,>=1.33.2 in /usr/local/lib/python3.10/dist-packages (from google-api-core[grpc]!=2.0.*,!=2.1.*,!=2.10.*,!=2.2.*,!=2.3.*,!=2.4.*,!=2.5.*,!=2.6.*,!=2.7.*,!=2.8.*,!=2.9.*,<3.0.0dev,>=1.34.1->google-ai-generativelanguage==0.6.10->google_generativeai) (1.62.3)\n",
            "Requirement already satisfied: pyparsing!=3.0.0,!=3.0.1,!=3.0.2,!=3.0.3,<4,>=2.4.2 in /usr/local/lib/python3.10/dist-packages (from httplib2<1.dev0,>=0.19.0->google-api-python-client->google_generativeai) (3.2.0)\n",
            "Requirement already satisfied: pyasn1<0.7.0,>=0.4.6 in /usr/local/lib/python3.10/dist-packages (from pyasn1-modules>=0.2.1->google-auth>=2.15.0->google_generativeai) (0.6.1)\n",
            "Requirement already satisfied: charset-normalizer<4,>=2 in /usr/local/lib/python3.10/dist-packages (from requests<3.0.0.dev0,>=2.18.0->google-api-core->google_generativeai) (3.4.0)\n",
            "Requirement already satisfied: idna<4,>=2.5 in /usr/local/lib/python3.10/dist-packages (from requests<3.0.0.dev0,>=2.18.0->google-api-core->google_generativeai) (3.10)\n",
            "Requirement already satisfied: urllib3<3,>=1.21.1 in /usr/local/lib/python3.10/dist-packages (from requests<3.0.0.dev0,>=2.18.0->google-api-core->google_generativeai) (2.2.3)\n",
            "Requirement already satisfied: certifi>=2017.4.17 in /usr/local/lib/python3.10/dist-packages (from requests<3.0.0.dev0,>=2.18.0->google-api-core->google_generativeai) (2024.12.14)\n"
          ]
        }
      ]
    },
    {
      "cell_type": "code",
      "source": [
        "from youtube_transcript_api import YouTubeTranscriptApi\n",
        "import google.generativeai as genai"
      ],
      "metadata": {
        "id": "kdm6w49_NbNI"
      },
      "execution_count": 3,
      "outputs": []
    },
    {
      "cell_type": "code",
      "source": [
        "# Configuración del modelo\n",
        "genai.configure(api_key= \"xxxxxxxx\")\n",
        "model = genai.GenerativeModel(model_name=\"models/gemini-1.5-flash\")"
      ],
      "metadata": {
        "id": "_IYA84g2NfB_"
      },
      "execution_count": 4,
      "outputs": []
    },
    {
      "cell_type": "code",
      "source": [
        "prompt = \"genera un resumen conciso a partir de la transcripción de un vídeo de YouTube. Su resumen debe capturar los puntos clave y la información esencial, presentados en viñetas, dentro de un límite de 250 palabras. Profundiza en la transcripción proporcionada y extrae los detalles vitales\""
      ],
      "metadata": {
        "id": "3OBSpWkdPyfU"
      },
      "execution_count": 8,
      "outputs": []
    },
    {
      "cell_type": "code",
      "source": [
        "# Obtener transcripción\n",
        "youtube_video_url = \"https://www.youtube.com/watch?v=QBfshqL7njQ\"\n",
        "video_id = youtube_video_url.split(\"=\")[1]\n",
        "transcript_text = YouTubeTranscriptApi.get_transcript(video_id, languages=['es'])\n",
        "\n",
        "transcript = \"\"\n",
        "for i in transcript_text:\n",
        "    transcript += \" \" + i[\"text\"]\n",
        "print(transcript)"
      ],
      "metadata": {
        "colab": {
          "base_uri": "https://localhost:8080/"
        },
        "id": "mRJsi0FIOBMW",
        "outputId": "173dc006-5ed9-479b-8894-4ae1abf33056"
      },
      "execution_count": 7,
      "outputs": [
        {
          "output_type": "stream",
          "name": "stdout",
          "text": [
            " me encontré este dibujo de un sitio web Este era un sitio we que uno podría dibujar y se lo monté al modelo o un me lo empezó a describir y pues nada Esa es la descripción típica del modelo Pero entonces fui y le pregunté esto I want to impress my students of plat Life quiero impresionar a mis estudiantes de platsil Life Escríbeme en una sola página el código html y css que puede crear una versión profesional del sitio web que está dibujado en la imagen mantenlo tan cercano como sea posible al sketch original Pero hazlo excelente profesional y responsive añade placeholders para las imágenes y texto falso para que se vea muy real y efectivamente empezó sin ningún problema escribir el código html y css y cuando lo fui a correr Aquí tienen la versión y funciona y es responsive se parece mucho la versión que yo coloqué en mi sketch de la versión que me creo en html y css a mí Esto me causa mucha emoción pero sé que a muchos de nosotros nos causa un montón también como de terror eso qué significa para mi empleo y para el futuro y es de lo que les voy a hablar el día de hoy ya llevamos 2 años con Inteligencia artificial en la humanidad Y eso qué significa por ejemplo salió recientemente un competidor de visual Studio code basado en visual Studio code pero con un formato un motor interno para editar código llamado cursor y ellos se llaman así mismos the Ai code editor y es Wow es bastante Bueno a mí me parece increíble esta idea de que uno pueda llegar a una base de código y decirle Oye cómo puedo hacer esto más fácil que te lo escriba inmediatamente lo puedas aplicar te muestre Dónde están los cambios realmente me parece excelente si ustedes no están usando cursores y programan Les recomiendo mucho probarlo hay que pagar pero pues hay que pagar Así como hay que pagar la suscripción de pla y todo el tiempo para seguir aprendiendo ahora pueden no pagar porque resulta que esta semana Microsoft anunció que github copilot el competidor de cursor ahora es gratis a mí me parece que es mejor cursor que giov copilot Pero esto habla de la competencia que está ocurriendo alrededor del futuro de la Inteligencia artificial sin la menor duda ella Ah sirve para programar y acelera muchísimos procesos Pero no es lo que nosotros creíamos hace do años asumimos que se iba a acabar el rol del programador y que el Junior ya no iba a existir y que el senior y que la vaina hoy ya lo tenemos más claro lo que es la Inteligencia artificial es un Junior con mucha energía y absoluta seguridad de lo que está escribiendo Pero en ocasiones escribe barbaridades que nos llevan al 70 del código que queremos hacer pero ese 30% nos puede hacer gastar el doble de tiempo si no sabemos usarlo bien y paradójicamente la Inteligencia artificial es un super poder en manos de programadores con experiencia que tienen bases y fund eventos sólidos pero en manos de Junior crea tanta falsa sensación de seguridad que arrancan a crear un montón de código absolutamente inm mantenible que luego cuando uno intenta depurarlo es prácticamente imposible el prototipado funciona pero más allá de eso no para Qué sabemos que funciona el código creado por Inteligencia artificial principalmente para dos cosas para arrancar un proyecto nuevo cuando tengo la mente en blanco necesito crear la estructura básica como todos los elementos básicos lo que llaman scaffolding o boiler Plate code a es espectacular para eso o para iterar pedazos cuando quiero iterar pequeños componentes de las cosas que estoy grabando y que estoy programando esa iteración Yo creo que tiene total sentido usar Ai ahí cuando digamos que no sé cómo hacer el algoritmo de búsqueda de dxt en r entonces pónmelo acá en el contexto de este código eso funciona bastante bien y hay un uso que he visto que le dan mucho sobre todo en concursos en hacat en startup weekends cosas por el estilo que es para crear mvps minimum viable products es decir prototipos el problema de estos prototipos es que estos prototipos creados con Ai inmediatamente se desmoronan cuando uno los empieza a llevar a producción producción significa que usuarios reales los tienen que usar Y si ustedes alguna vez han trabajado de manera profesional en la industria del Software sabrán que no hay equipo de Quality assurance no hay product managers no hay programador senior que esté preparado para el terror que es un usuario que va a usar nuestra aplicación de las maneras más dantescas y horripilantes que uno se pueda imaginar eso es lo que Nosotros llamamos un Edge Case o uno de esos casos frontera casos borde donde uno ni siquiera se imaginó Cómo funcionaría el código qué es lo que es escalar escalar software es primero que todo pulir esos Edge cases que de repente una persona en vez de usar un computador normal Us un mouse de ruedita El Mouse de ruedita causa una pantalla azul o hace que el servidor se cuelgue que hay personas que no usan teclado sino que le hablan al sistema o que alguien le dio 80 veces click yo mandó 80 ru al servidor entonces hay que bloquear el botón después del primer clic eso es pulir un Edge Case otro Ed Case muy común es cuando uno tiene que estructurar la arquitectura del sistema y la arquitectura del sistema es tomar decisiones alrededor de cómo voy a escalar esto porque muchas veces el código de Inteligencia artificial entiende la línea de página que le estamos mandando pero necesariamente entiende toda la estructura no entiende la base de datos no entiende el modelo de negocio el por qu del modelo de negocio es muy importante y el último componente es conectar sistemas programar es solamente un 10 a 15% de sentarnos a escribir código y es un 85 a 90 por de leer código de entender usuarios de entender problemas y de montar ese LEGO super complicado ese castillo de naipes de lo que es realmente la estructura del negocio en nuestras Mentes para luego en ese 10% del tiempo expresarlo en código esa expresión aún no está Ai De hecho está bien lejos Esa es la parte que para las personas que son senior les cuesta mucho explicarle al Junior porque Los Juniors están convencidos de horror en general Los Juniors viven Muertos del susto no Entonces esto me va a quitar el empleo no voy a conseguir Cómo avanzar en mi carrera bla bla bla pero resulta que y no es eso y entonces eso nos está causando un hueco en el entendimiento Cómo uso un senior Ai primero que todo lo usa para prototipar rápido y luego lanza un mvp con ese mvp empieza a explorar las opciones de qué tal las cosas funcionan y aprobar diferentes mecanismos con su experiencia elige el mejor mecanismo Porque si uno no tiene experiencia y base sólidas uno no puede diferenciar los resultados que genera la Inteligencia artificial y esto aplica todo desde la contabilidad hasta el código y luego automatiza lo que sabe que funciona este último pedazo es lo que más quiero que tengan en mente e Funciona muy bien para automatizar lo que uno ya tiene experiencia que se puede hacer bien de otra manera es muy difícil usar Ai Porque si uno no sabe y tiene la experiencia que esto ya funciona uno está operando con una caja negra que uno no sabe De qué manera le va a explotar en la cara donde Los Juniors tienden a integrar el código que la Inteligencia artificial escribe sin leerlo ignoran prácticas de seguridad cosas como Squad injection o Cross scripting cosas muy básicas de programador sencillo que si uno aprendió a programar a las malas con Ai pues no entiende y complica luego la depuración esto también es paradójico porque en teoría si uno tiene un error en el código uno simplemente le puede decir a la Ai Encuéntrame el error y lo encuentra y muy probablemente esto sirve para la sintaxis Pero qué pasa cuando la depuración es en la lógica Si tú no aprendiste lo lógica y aprender lógica Eso no se hace con a eso se hace a las patadas es como aprender álgebra uno tiene que probar y probar y probar hacer proyectos iterar iterar iterar pues entonces uno no puede depurar depurar es encontrar estos errores y si los errores de lógica Son son bien impresionantes Y por último no entender el sistema completo Esta es probablemente la cosa más Junior que hay programar no es Hacer código es resolver problemas de un negocio a través de la expresión no ambigua de la programación Y eso es lo que es un senior un senior ni simplemente una persona que sabe muchos lenguajes o muchas tecnologías una persona senior es una persona que programa con experiencia pero que sobre todo entiende el modelo de negocio por ejemplo una cosa muy Junior típica es Ay no me gusta la tecnología que usan en mi empresa quiero mejorarlo porque es una tecnología mejor ha un lenguaje más divertido deberemos estar usando estas otras metodologías más chéveres a n le importa eso no es tan importante los seniors saben de las nuevas metodologías y de las nuevas técnicas y de los nuevos sistemas y de las nuevas librerías porque siempre hay cosas nuevas pero lo que más le importa un senior es por qué estamos resolviendo el problema que estamos resolviendo eso es lo que es programar con experiencia senior Level es entender el problema del negocio y si la forma de resolver el problema de negocio es con wordpress to bien si la forma de resolver el problema de negocio es con una librería simple de copiar y pegar está bien o con no code o con de pronto una implementación super compleja de un algoritmo super loco en rost Pues también está bien pero la solución tec lógica le sucede al entendimiento del negocio y el modelo de negocio y entender el problema a solucionar precede a la solución tecnológica y estas cosas Pues habían pasado un montón No por ejemplo nosotros ya habíamos visto antes de la Inteligencia artificial que los entornos visuales de código iban a acabar con los programadores no cuando salió visual basic para los que ustedes que tienen edades muy pequeñas y que no conocen las referencias de Los Simpsons esto es visual basic una de las primeras interfaces gráficas de desarrollo de aplicaciones y visual basic tenía un asistente para hacer interfaces gráficas completas casi sin hacer código Cómo amaba yo este pedazo de software yo yo mis mucho de mis primeros proyectos en la vida de ganar dinero haciendo programación fue con visual basic hermoso Te extraño no no te extraño pero te amé sí viste comoo esa relación tóxica que superé pero que me enseñó muchas cosas sobre todo cosas raras cosas raras y deliciosas y luego está por supuesto No cod aquí encontré una lista de un reguero de diferentes opciones de no code para crear aplicaciones de manera automatizada algunas de ellas como notion no es como para tomar notas cierto y y sapier no es como para automatizar procesos Pero hay muchas muchas muchas muchas herramientas de no code herramientas de no code muy diversas divertidas e interesantes ustedes sabían que plats tiene una ruta muy completa herramientas de nocode que explica esto es la ruta de nocode developer la pueden tomar ya mismo y acuérdense que plat tiene un precio de Navidad que está a punto de acabarse en Navidad regálense conocimiento pues el no code tampoco mató a los programadores lo que hizo el no code es que más soluciones de problemas de negocio se automatizan por personas que entienden cosas básicas de la programación pero eventualmente programar es solucionar problemas en escala y este es el otro problema de la Inteligencia artificial Cuando uno llega y escribe un prompt Pues llega un punto en el que el prompt tiene que ser tan complejo que era básicamente programar porque programar es un es expresar un problema sin ninguna ambigüedad eso es programar es entender un problema y expresarlo de tal manera que no exista ambigüedad por ningún lado Cómo logramos esto apunta del idioma español o del idioma inglés es difícil nosotros tenemos un idioma para expresar problemas sin ninguna ambigüedad se llama la lógica de programación y aprender a programar nos hace más inteligentes cuando la gente aprende a programar aprende a solucionar problemas de una manera lógica secuencial en vez de solucionarlos con instinto o con prueba y error que es lo que la gran May los seres humanos hacen Ahora hay otro lgo con la Inteligencia artificial y de nuevo las las herramientas de Ai son magia todo el mundo las debería usar pero la Inteligencia artificial resuelve y sin la menor duda resuelve solamente si en sus datos de entrenamiento ese problema se resolvió antes a mí me parece impresionante que muchas veces las personas no entienden esto la forma en la que la Inteligencia artificial resuelve problemas de código es si en su entrenamiento había encontrado el problema antes si ustedes en el el código que le están mandando la Intel in artificial le envían una pieza de software o un problema que es completamente nuevo la Inteligencia artificial les va a mostrar la versión de otros lados donde se resolvió claramente muchos problemas de software en el día a día se resolvieron múltiples veces antes entonces la Inteligencia artificial ayuda pero si ustedes están creando algo nuevo va a ser muy difícil que e les ayude Esta es parte de la razón por la que el arte o las fotografías automáticamente generadas con Inteligencia artificial no son tan interesantes o sea son bonitas y uno le queda como Wow esto es perfecto es porque es un promedio de la cultura humana y es un promedio de lo que los sistemas entrenan pero no les va a resolver cosas nuevas eso sí no les va a decir que no puede simplemente va a a entregarles un problema malo que no tiene nada de malo si ustedes tienen experiencia y tienen las bases sólidas para programar pero que si tien mucho de malo si ustedes le están delegando lo que ustedes creen saber de programación a un Ai y el último problema que hay es la ventana de contexto o el context window esto es un concepto de Inteligencia artificial donde básicamente la inteligencia artif inicial moderna tiene un límite de memoria que son más o menos alrededor de los 60,000 hasta los 120,000 caracteres y en ese punto se les empieza a olvidar y esa memoria no solamente incluye las líneas de código que está programando También incluye el texto a través del cual los grandes modelos de lenguaje o llms piensan no les ha pasado que en ocasiones clot les dice que se acabó la memoria de la ventana de contexto de javascript o que Open Ai en chat gpt les empieza a decir como que ya no puede generar más datos que tienen que abrir una unaa ventana o les ha pasado que están procesando un dato o tratando de encontrar un un análisis de algo y de repente se empieza como a romper y a generar errores y les toca volver arrancar desde cero Pues todo eso es problemas de la ventana de contexto esto con el pasar del tiempo se va a ir solucionando Pero va a tomar un tiempo en que se solucione parte de la razón por la que va a tomar un tiempo en que se solucione es pues porque esto es muy difícil esto requiere muchos chips y los chips son bien bien bien bien bien complejos de desarrollar Y en este momento la Inteligencia artificial se está consumiendo todos los chips del mundo para otras cosas Yo creo que este problema sí se va a solucionar pero no significa que los otros no dejen de ser relevantes lo que en esencia significa que la ventana de contexto va a limitar la cantidad de líneas de código que yo le puedo enviar Y en este momento alguien en el chat está preguntando Freddy así sea apagando existe este problema y La respuesta es sí pagando efectivamente puedes acceder a más chips más memoria RAM y más ventana de contexto pero aún así está limitada porque aún estamos limitados por las matemáticas naturales de Los grandes módulos de lenguaje Cuál es la solución pues aprenderá a programar aprenderá a programar bien Yo me acuerdo que cuando empezó a salir la Inteligencia artificial la gente decía Uy Se acabaron las escuelas online como plat ya no se necesitan porque entonces ahora todo lo va a hacer e y tenga claro e hace mucho es muy mágico es muy mágico no se puede negar Pero si ustedes no saben de lo que están hablando y simplemente le intentan programar a punta de proms segurísimo sacan un prototipo Pero va a ser muy difícil que hagan código de calidad profesional resulta que las bases fundamentales nunca pasan de moda nunca pasan de moda programar requiere cinco habilidades mínimas hay cinco cosas no Ai que ustedes necesitan para es lo mínimo para conseguir un empleo en programación se las voy a contar la primera de ellas es que ustedes tienen que entender cómo funciona desarrollar para la web Incluso se van a desarrollar aplicaciones móviles o se van a enfocar en el backen o en ciencias de datos ustedes necesitan entender Cómo se desarrolla para la web eso es html css y y javascript html y css son lenguajes de declaración pero no de programación aunque técnicamente se puede programar en ellos javascript es un lenguaje de programación y Estos son lenguajes esenciales porque siempre se los van a encontrar es mínimo es básico y realmente no les toma tanto tiempo la ruta de html y csss de cero de platzi se los enseña lo segundo que necesitan es un lenguaje de backend cuál el que se les dé la gana Yo Les recomiendo python porque es extremadamente popular y además está conectado mucho con el mundo de II y las ciencias de datos y la ruta de python está recién actualizada en plats desde este año está superbonita el tercero que necesitan y esto no es opcional Es que necesitan entender un sistema de control de versiones nosotros llevamos años dedicándole un amor hermoso al curso de git y github y lo tienen ya mismo estas cosas no las pueden hacer a punta de Ai es entender Cómo funciona el flujo de trabajo entre programadores Cómo le hacen múltiples programadores para trabajar sobre el mismo archivo al mismo tiempo y ese es el curso de G github el cuarto elemento es Linux plats tiene un curso de introducción a terminal y línea de comandos que les enseña Linux de una manera básica Aunque les adelanto que estamos trabajando para que el próximo mes lancemos un curso de Linux como debe ser como debe ser Linux me cambió la vida es de las habilidades que me cambiaron la vida para siempre cuando ustedes aprenden Linux les cambia la vida es entender computación Somos la generación que está justo en el punto donde las nuevas generaciones no saben que es un archivo y las viejas generaciones no saben Cómo formatear un computador la solución a esta analfabetismo de computación es aprender Linux Y por último bases de datos en particular con sql recién actualizado hace muy muy muy poquito las bases de datos son fundamentales ustedes claramente con Ai pueden generar código sql sql o structured query Language es el lenguaje para hacer consultas a datos pero primero tienen que entender las bases de cómo funcionan las bases de datos mucha gente cree que Excel es una base de datos ahora en cierto modo lo puede ser pero las bases de datos son algo mucho más avanzado y matemáticamente expresable entonces estas cinco habilidades son las que necesitan no olviden también lo que significa pasar de Junior a senior para pasar de Junior a senior hay que aprender Hay que preguntar Hay que entender y hay que iterar esto es un proceso de dolor esto es como ser un atleta yo creo y aquí les quiero decir algo que voy a adelantarme acá porque pues esto es controversial Hola Yo creo que Los Juniors no deberían trabajar remoto de hecho Estoy casi seguro que el trabajo remoto está destruyendo destruyendo la carrera de Los Juniors si ustedes son Junior o de un nivel medio y están trabajando en remoto yo Honestamente creo que se están arruinando sus carreras las están arruinando porque de quién van a aprender Ay remoto no voy aprender en plats Voy aprender Sí por supuesto y está bien aprendan en plats pero ustedes también necesitan aprender de la interacción con otros seres humanos de negociar con sus jefes de el negocio y esas cosas tienden a pasar más rápido en oficina un senior yo creo que puede trabajar remoto sin problemas pero una persona junior está arruinando su vida al trabajar en remoto no pero es que tengo tres hijos pero es que mis perritos pero queo al lado de un lago Pues tienes que tomar una decisión quieres vivir una vida bien tranquilita al lado del Lago con gallinitas pues dedícate a las gallinitas pero en la industria de tecnología donde nosotros construimos el futuro hay una razón porque la que las ciudades existen y ahí yo creo que el trabajo remoto no es tan buena idea y entonces pues necesitas iterar y yo entiendo que el otro problema es que hay una reducción de ciertos tipos de empleo en particular una reducción del empleo Junior en Front and development les adelanto que no tiene nada que ver con la Inteligencia artificial la reducción viene en que la el crecimiento de las aplicaciones móviles las redes sociales y el fin de Google están bajando la demanda para crear websites la razón por la que había demanda para frontend developers Junior es porque todo el mundo necesitaba crear un sitio web con html css y javascript para vender un producto para tener un modelo de negocio en internet pero ahora todo está en una app o si no todo se vende por Instagram por tiktok por Facebook por Twitter etc Bueno por Twitter no se vende nada pero por Instagram Sí y por WhatsApp y todo este cuento y el posicionamiento en buscadores que era la forma en la que la gente descubrió los websites pues se fue al caraj con Ai y con las con los problemas que está teniendo Google en su algoritmo de búsqueda Eso hace que la demanda por websites baje Y esa es la razón por la que se redujo la demanda para desarrolladores frontend no significa que el frontend deje de funcionar y by the way a ustedes les preocupa por ejemplo que esta Inteligencia artificial que les mostré al principio hubiera generado código tan automático y efectivamente el código fue responsive pero no fue tan bueno la verdad a medida que uno lo empieza a hacer más chiquito se empieza a romper uno necesita ser bueno entonces no olviden esto no olviden que los fundamentos sólidos hacen de la Inteligencia artificial un multiplicador ustedes necesitan fundamentos sólidos en la cabeza para que la Inteligencia artificial multiplique Y si ustedes no desarrollan fundamentos sólidos y esos se aprenden con trabajo aplicando lo que entienden en una clase pues no lo van a lograr no van a lograr crear una gran carrera si no tienen fundamentos sólidos si no aprenden Claro algoritmo si no aprenden claro Linux github sql si lo logran entonces la Inteligencia artificial los multiplica si no una multiplicación por cer0 da cer0\n"
          ]
        }
      ]
    },
    {
      "cell_type": "code",
      "source": [
        "# Resumen de la transcripción con los puntos clave\n",
        "response = model.generate_content(prompt + transcript)\n",
        "print(response.text)"
      ],
      "metadata": {
        "colab": {
          "base_uri": "https://localhost:8080/",
          "height": 402
        },
        "id": "JVCWCc5oPunj",
        "outputId": "b4a8e5e8-81d1-400d-e462-59364f1a7f04"
      },
      "execution_count": 10,
      "outputs": [
        {
          "output_type": "stream",
          "name": "stdout",
          "text": [
            "* **La IA como herramienta, no reemplazo:** La IA, ejemplificada por Cursor y GitHub Copilot, es una herramienta poderosa para programadores, especialmente para prototipado rápido y iteración de componentes pequeños.  No reemplaza a los programadores, sino que actúa como un junior altamente eficiente pero con limitaciones.\n",
            "\n",
            "* **Ventajas de la IA en la programación:** Excelente para generar código base (scaffolding), iterar en pequeños componentes y crear MVPs.  Automatiza tareas repetitivas, acelerando el desarrollo.\n",
            "\n",
            "* **Limitaciones de la IA en la programación:**  Fracasa en la resolución de problemas complejos, la gestión de casos extremos (edge cases), el diseño de arquitectura de sistemas a gran escala y la comprensión del modelo de negocio.  Genera código a veces inmantenible y no resuelve problemas novedosos.  Sufre de limitaciones en la \"ventana de contexto\".\n",
            "\n",
            "* **El rol del programador senior:** Los programadores senior usan la IA para prototipar y luego aplican su experiencia para refinar, escalar y asegurar la calidad del producto, identificando y solucionando los problemas que la IA no detecta.  Entienden el negocio, no solo el código.\n",
            "\n",
            "* **Habilidades esenciales para programadores (independientes de la IA):**\n",
            "    * Desarrollo web (HTML, CSS, JavaScript).\n",
            "    * Lenguaje de backend (ej. Python).\n",
            "    * Control de versiones (Git).\n",
            "    * Linux.\n",
            "    * Bases de datos (SQL).\n",
            "\n",
            "* **El trabajo remoto y los juniors:** El trabajo remoto puede ser perjudicial para el desarrollo profesional de los juniors, al limitar la interacción con mentores y colegas experimentados.\n",
            "\n",
            "* **Disminución de la demanda de Frontend Junior:**  No se debe a la IA, sino a la creciente popularidad de las aplicaciones móviles y la disminución de la creación de sitios web.\n",
            "\n",
            "* **Fundamentos sólidos son cruciales:** La IA multiplica la eficiencia de quienes poseen sólidos fundamentos en programación.  Sin ellos, la IA es ineficaz.\n",
            "\n"
          ]
        }
      ]
    },
    {
      "cell_type": "code",
      "source": [
        "# Obtener transcripción\n",
        "youtube_video_url = \"https://www.youtube.com/watch?v=g6OY_jTsQXg\"\n",
        "video_id = youtube_video_url.split(\"=\")[1]\n",
        "transcript_text = YouTubeTranscriptApi.get_transcript(video_id, languages=['es'])\n",
        "\n",
        "transcript = \"\"\n",
        "for i in transcript_text:\n",
        "    transcript += \" \" + i[\"text\"]\n",
        "print(transcript)"
      ],
      "metadata": {
        "colab": {
          "base_uri": "https://localhost:8080/"
        },
        "id": "elh59uo5RE0K",
        "outputId": "23983a80-8216-442f-ed30-9c248b0a9895"
      },
      "execution_count": 11,
      "outputs": [
        {
          "output_type": "stream",
          "name": "stdout",
          "text": [
            " Traductor: Alejandra Buchelli\n",
            "Revisor: Genesis Yang ¿Habéis vivido alguna vez la experiencia cuando el tiempo empieza a fluir de forma diferente? ¿Habéis vivido alguna vez la experiencia cuando el tiempo empieza a fluir de forma diferente? Notando el espacio completamente abierto. Notando el cuerpo completamente presente. Notando la vida, completamente real. Notando que está ocurriendo algo extraordinario. Un momento para dejarse llevar. Un momento de entrega total. Un momento de plena presencia. Un momento de plena presencia. Notando los sentidos en un nuevo gradiente. Notando la sonrisa dibujando tu gesto. Notando la intuición aclarando tu mente. Notando que estás vivo, feliz y despierto. Esto es Mindfulness. El arte de vivir conscientemente. Y esta poesía... ...era lo que yo sentía cuando tuvimos la visita de Jon Kabat-Zinn, que era el fundador de esta clínica donde yo estudié hace 11 años. Y vino a Barcelona. Y vino a visitarnos. Y tuvimos la suerte \n",
            "de compartir con él un rato y que inaugurara nuestro espacio. Para mí fue un gran momento, y después me senté e intenté recoger un poco lo que había sentido. Aunque también me estaba\n",
            "dando cuenta entonces. Jon Kabat-Zinn tiene \n",
            "el mérito de haber cogido una disciplina monástica, tradicional, como lo es la meditación budista, que nació para aliviar el sufrimiento humano, y haberla llevado a un hospital. Porque en hospitales \n",
            "es donde las personas sufren. Y haber ofrecido este recurso a aquellas personas que la medicina no conseguía resolver su problema. Las personas con enfermedades crónicas, o dolencias crónicas, las enfermedades que tenían que ver con la mente y el cuerpo, y dió lugar a una nueva disciplina,\n",
            "lo que ahora se llama la medicina mente-cuerpo, que tiene ver con aspectos de la mente \n",
            "que afectan al cuerpo, aspectos del cuerpo \n",
            "que afectan a la mente, y cómo ello tiene que ver \n",
            "con el comportamiento. Gracias a ese esfuerzo innovador de hace 30 años, ahora tenemos \n",
            "bastante evidencia científica que explica como orientar la atención, la consciencia y la meditación tiene efectos en distintos ámbitos. El más conocido \n",
            "es el ámbito del bienestar. Cuando las personas somos conscientes, nos cuidamos más, nos prestamos atención y eso afecta a la salud. Cuidamos la salud, reducimos el estrés y nos queremos un poquito más. Y eso tiene también un efecto positivo en el trabajo. Cuando una persona está bien hace mejor su trabajo. Así que lo que hemos visto es que este desarrollo de la consciencia permite mejorar la atención, la concentración y reducir los errores. Y hay otra ventaja más que tiene que ver con las relaciones personales. Cuando alguien está bien y hace bien sus tareas, entonces se relaciona mejor con los demás. Disminuye la agresividad, \n",
            "mejora la empatía, y ese cóctel facilita las relaciones de colaboración. Algo que como hemos visto antes es innato a los seres humanos. Así que esta triada es muy poderosa. Y trata de cómo siendo conscientes podemos mejorar el bienestar personal, \n",
            "ponemos mejorar la calidad en el trabajo y podemos mejorar las relaciones. Y les voy a presentar un ejemplo de cada uno de estos ámbitos. El bienestar personal muchas veces viene afectado por tendencias que tenemos en la mente de dar \n",
            "vueltas a cosas negativas. En psicología se llama rumiación. Y es un pensamiento obsesivo, que nos genera malestar. Esos pensamientos se pueden reducir con la práctica de la consciencia, porque uno empieza a ser consciente \n",
            "de esos pensamientos y los va reduciendo y aquí tenemos un gráfico de una investigación que hicimos en 2010 donde en un programa de 8 semanas de mindfulness, reducía el malestar asociado con la rumiación y duraba durante la fase de seguimiento. También vimos que mejora la gestión de las emociones. Esta es otra investigación que hicimos más tarde en 2014. Aquí en Barcelona, con médicos de atención primaria y vimos que la alteración emocional que tenían los médicos tratando con los pacientes se podía reducir con un entrenamiento de ocho semanas de mindfulness y eso disminuía en tres dimensiones: en la tendencia a la ansiedad, a la depresión y a la hostilidad que son las emociones negativas que estaban asociadas con su trabajo. y mejoraba la actividad y disminuía la fatiga. Y eso es lo que todos queremos, cómo podemos tener más actividad y estar menos cansados, si disminuimos la cantidad de energía que dedicamos a gestionar la alteración emocional. Y el tercer ejemplo tiene que ver con cómo podemos mejorar las relaciones con los demás y tomar mejores decisiones. Y eso lo podemos articular con una matriz en la que observamos el medio interno en dos dimensiones. Hay una dimensión que tiene que ver con el grado de energía que tiene una persona en un momento dado y hay otra dimensión que tiene que ver\n",
            "con que el momento sea agradable o desagradable. Y para poner unos ejemplos que os podéis ubicar tenemos un momento de relajación cuando hay poca energía y es agradable o lo llamamos excitación cuando hay energía agradable. Cuando hay energía y es desagradable puede ser un momento de ansiedad, o puede ser un momento \n",
            "de frustración o de enfado. Y cuando tenemos \n",
            "un momento de poca energía, desagradable, entonces lo llamamos aburrimiento. Esto sería un poco la periferia de este mapa de los sentimientos, pero lo más interesante está en el centro porque hay una zona óptima que no es exactamente el centro, yo la he puesto un poco como la tengo para mí, pero cada uno tiene que saber identificarla. Y en esa zona es donde tomamos las mejores decisiones, en esa zona es donde escuchamos mejor a nuestros hijos, donde tenemos mejor relación con la pareja, donde podemos funcionar en un equipo, donde se despliega la mejor versión de uno mismo. No demasiado excitado, no demasiado relajado. No demasiado aburrido, no demasiado ansioso e irritado. Entonces, la clave está en primero darse cuenta de dónde está el medio interno y contar con recursos para poder recuperar la zona cuando haya acontecimientos o situaciones en la vida que a uno le sacan de esa zona. Y un gran recurso para ello es la práctica de mindfulness. Mindfulness, quizás algunos conocéis la palabra en inglés porque es una palabra que se usa normalmente. Pero me gusta más como se expresa en chino que tiene que ver con dos ideas: la idea de presencia y la idea de corazón. Corazón como la parte afectiva de la mente En Chino dirían que mindfulness, consciencia plena en castellano, es cuando una persona está presente de corazón, está viviendo un momento al 100%. Y eso es fácil de decir, pero requiere un poco de entrenamiento. Y el entrenamiento tiene tres habilidades que tenemos que ensayar: la primera tiene que ver con tener una intención. El cerebro humano tiene está tendencia a dispersarse, a ir de una idea a la otra fácilmente. Con lo cual tenemos que cultivar una intención de estar más presentes, de estar más conectados con lo que ocurre, la realidad, momento a momento. No dejarnos demasiado ir hacia cuestiones del futuro y del pasado. La segunda tiene que ver con cultivar una actitud de amabilidad ante la vida y amabilidad ante uno mismo. Muchas veces nos enfrentamos con la realidad y creemos que luchando con la realidad se puede cambiar. En realidad las cosas que ocurren, ya están ocurriendo y es más fácil adaptarnos a lo que hay y, de esa forma, establecer una relación que nos permita quizá cambiar las cosas del futuro. Así que tenemos el componente de intención y de amabilidad y luego viene lo más importante que es conectar con la experiencia. La experiencia en el cuerpo y la experiencia de estar presente. En realidad lo que nos ayuda a estar presentes es recordar el cuerpo y sentir el cuerpo. Y eso se facilita mucho con la práctica. Así que si os parece vamos a hacer ahora una pequeña práctica. Yo no voy a proyectar nada, así que os invito a que llevéis la visión hacia el interior, Que cerréis los ojos un momento. Y que busquéis una postura que os dé una sensación de dignidad, de estabilidad. La postura que sea. Y con la visión interior, fijaros en esa postura. Fijaros que se siente habitar un cuerpo humano. Fijaros en el contacto con la silla, los pies con el suelo. Fijaros cuál es la experiencia en el pecho, en los hombros, en la cara. Fijaros cuál es el efecto de dibujar una ligera sonrisa en la cara. Si simplemente el cambiar el gesto con una sonrisa, cambia la experiencia. Y luego vamos a llevar la atención a un proceso maravilloso que tenemos que se llama: La Respiración. Y fijaros como fluye la respiración por el cuerpo. Cómo hay una entrada de aire que llamamos inspiración, un momento que parece que da la vuelta. Y otro momento que llamamos exhalación. Y cómo este proceso implica al cuerpo, pero también tiene un efecto en la mente. Intentad poner atención en la respiración en algún sitio que lo podáis seguir bien. En las fosas nasales o en el movimiento del abdomen. Acompañando con la atención a la respiración. Como si este momento, fuera lo más importante. Como si la vida dependiera de ello. Si notáis que la atención se va al futuro, o al pasado, amablemente, la volvéis a traer a la respiración. A este momento. Quizá notando que la respiración va cambiando un poco. Quizá notando que la mente y el cuerpo se van calmando. Podéis ir abriendo los ojos y simplemente notar cual ha sido el efecto de estos minutos de atención a la respiración. Y os daréis cuenta que cuando practicamos ejercicios que nos conectan con el momento presente, aparece una especie de bienestar interno natural. Una tranquilidad. Una relajación. Es como que el cuerpo recupera un poco esa armonía. Y lo que sabemos ahora es que este bienestar que nace de la práctica de mindfulness son unos circuitos, que podríamos decir internos de cerebro, que tienen la capacidad neuroplástica. Esto significa que si se entrena, se desarolla. Igual que el tocar el violín o aprender un idioma. Con lo que estos ejercicios se convierten en una forma de crear \n",
            "bienestar internamente. Cuando uno toma el hábito de decicar unos minutos al día a hacer estos ejercicios, empieza a generar una fuente de bienestar interior. Y esta fuente de bienestar interior, además afecta a otros motores del bienestar interior que tenemos. Y otro es la resiliencia. La resiliencia es la capacidad de vivir en la adversidad, de funcionar en la adversidad e incluso de crecer en la adversidad. Para poder ser resilientes necesitamos ser conscientes. La adversidad en sí misma puede echar abajo una persona, pero cuando ponemos consciencia y ponemos recursos para manejarnos, entonces empezamos a desarrollar mecanismos naturales de resiliencia, como hemos visto en el ejemplo de los médicos, regular las emociones negativas, manejar la depresión, la ansiedad y la hostilidad que tienen que ver con la profesión. Y esto también hace que aparezca la generosidad y la amabilidad de forma natural. Porque cuando estamos más tranquilos estamos en una situación de mayor agradecimiento, nos molestan menos las cosas, nos preocupamos más por los demás y somos más generosos. La amabilidad y la generosidad son otros de los motores del bienestar. Somos animales sociales y aquellas prácticas que hacen bien a los demás nos hacen sentirnos bien. Y esto tiene que ver con el último motor del bienestar que es el talante. Cuando somos optimistas, vemos retos, vemos oportunidades, nos fijamos en las cosas buenas que hay en la vida, entonces también estamos poniendo en marcha los motores del bienestar. Y veis que están relacionados los unos con los otros. Cuando una persona es más consciente, también empieza a desarrollar de forma natural esta amabilidad, mejora el talante porque se da cuenta que no tiene sentido estar quejandose todo el tiempo de unas cosas y otras que no se pueden cambiar. Se da cuenta de que las relaciones humanas son más enriquecedoras cuando hablamos de las cosas que nos conectan y no de lo que nos desconecta. Cuando nos cuidamos, en vez de nos fastidiamos. Entonces esto empieza a generar una forma diferente de vivir. No es una cosa nueva. Ya lo sabían los antiguos. Michel de Montaigne que es un filósofo conocido. Francés. Escribió esta poesía que dice: Cuando bailo, bailo. Cuando duermo, duermo. Y cuando camino por un bosque, si mi pensamiento se distrae hacia asuntos distantes, que es lo que llamamos mindfulness, lo conduzco de nuevo al camino, a la belleza de mi soledad. Él practicaba mindfulness a su manera. Y esta idea ha sido ahora retomada por una marca de automóviles que ha hecho un anuncio muy interesante que está rodado precisamente aquí en Barcelona y que vamos a ver ahora: Cuando trabajes, trabaja. Cuando descanses, descansa. Cuando pedalees, pedalea. Cuando bailes, baila. Salta cuando saltes. Y cuando grites, ¡grita! Si tienes que pelear, pelea. Cuando ayudes, ayuda. Y cuando lo intentes, de verdad inténtalo. Cuando avances, avanza. Cuando juegues, juega. Y cuando sueñes, sueña. Cuando ganes, gana. Y cuando pierdas, sobretodo cuando pierdas... ...pierde. Cuando conduzcas, conduce. Me parece genial que una marca de coches de éxito haga un anuncio sobre cuando pierdes, pierde. Parece que todo es ganar, pero no. Perder es muy importante, porque si uno pierde con consciencia, aprende. Si uno gana con consciencia, no se lo cree. Si uno juega con consciencia, disfruta. Si uno descansa con consciencia, realmente descansa. Y el problema que tenemos un poco es que intentamos de hacer todo mezclado. Así que la clave para mi es: Perder o ganar no es lo importante, lo importante es vivir conscientemente porque eso es lo más interesante en la vida. Así que muchas gracias por vuestra atención.\n"
          ]
        }
      ]
    },
    {
      "cell_type": "code",
      "source": [
        "# Resumen de la transcripción con los puntos clave\n",
        "response = model.generate_content(prompt + transcript)\n",
        "print(response.text)"
      ],
      "metadata": {
        "colab": {
          "base_uri": "https://localhost:8080/",
          "height": 280
        },
        "id": "6IZWF6L7RH0Q",
        "outputId": "aa41fe2e-e057-4e75-9408-3df93d430434"
      },
      "execution_count": 12,
      "outputs": [
        {
          "output_type": "stream",
          "name": "stdout",
          "text": [
            "* **Mindfulness: vivir conscientemente.** El vídeo explora el mindfulness, definido como la presencia plena y el arte de vivir conscientemente, inspirado en la visita del fundador de la clínica de meditación del presentador.\n",
            "\n",
            "* **Mindfulness y la medicina mente-cuerpo.** El mindfulness, derivado de la meditación budista, ha sido adaptado para entornos hospitalarios, dando lugar a la medicina mente-cuerpo, que estudia la interacción entre la mente y el cuerpo.\n",
            "\n",
            "* **Beneficios del mindfulness.**  La práctica del mindfulness mejora el bienestar personal reduciendo la rumiación y la alteración emocional (ansiedad, depresión, hostilidad), mejora la calidad del trabajo (atención, concentración, reducción de errores) y las relaciones interpersonales (empatía, colaboración).\n",
            "\n",
            "* **Mejora de las relaciones y toma de decisiones.** Se presenta una matriz que ilustra cómo la energía y el placer/displacer influyen en el estado interno, identificando una zona óptima para la toma de decisiones y las relaciones.\n",
            "\n",
            "* **Entrenamiento en mindfulness:** El entrenamiento en mindfulness implica tres habilidades: la intención (mantener la atención en el presente), la amabilidad (hacia uno mismo y la realidad) y la conexión con la experiencia (a través del cuerpo y la respiración).\n",
            "\n",
            "* **Los cuatro motores del bienestar:** El mindfulness promueve cuatro motores del bienestar:  conciencia, resiliencia (capacidad de afrontar la adversidad), amabilidad/generosidad y un talante optimista. Todos están interconectados.\n",
            "\n",
            "* **Conclusión:**  Vivir conscientemente, como lo hacía Montaigne, es clave. El anuncio de la marca de autos refuerza la idea de vivir cada momento plenamente, incluyendo la victoria y la derrota, en lugar de mezclar las actividades.\n",
            "\n"
          ]
        }
      ]
    },
    {
      "cell_type": "code",
      "source": [
        "prompt = \"genera un resumen conciso traducido al español, a partir de la transcripción de un vídeo de YouTube. Su resumen debe capturar los puntos clave y la información esencial, presentados en viñetas, dentro de un límite de 250 palabras. Profundiza en la transcripción proporcionada y extrae los detalles vitales\""
      ],
      "metadata": {
        "id": "5Gsl9HtuSLgf"
      },
      "execution_count": 13,
      "outputs": []
    },
    {
      "cell_type": "code",
      "source": [
        "# Obtener transcripción\n",
        "youtube_video_url = \"https://www.youtube.com/watch?v=eHJnEHyyN1Y\"\n",
        "video_id = youtube_video_url.split(\"=\")[1]\n",
        "transcript_text = YouTubeTranscriptApi.get_transcript(video_id, languages=['en'])\n",
        "\n",
        "transcript = \"\"\n",
        "for i in transcript_text:\n",
        "    transcript += \" \" + i[\"text\"]\n",
        "print(transcript)"
      ],
      "metadata": {
        "colab": {
          "base_uri": "https://localhost:8080/"
        },
        "id": "zPiptgLhSP6_",
        "outputId": "d2b5cae2-24b1-4766-c26b-ab7ab8305123"
      },
      "execution_count": 14,
      "outputs": [
        {
          "output_type": "stream",
          "name": "stdout",
          "text": [
            " In 1995, a graphic design teacher\n",
            "named Lynda Weinman, and also an aspiring entrepreneur, decided to get the website Lynda.com. She did so because she needed\n",
            "a sandbox to play in, with the new graphic-design tools, the digital tools that were being\n",
            "developed at that time: Photoshop, Illustrator and many more. And she needed a place\n",
            "to put her students' work so all could see it. Well, she put that website together, and the business began to grow. And in 2002, she discovered\n",
            "it could be much, much more, so she moved all of her teaching online. Later, the business was sold to LinkedIn, who renamed it LinkedIn Learning, sold for 1.5 billion US dollars. Lynda is the poster child for what I call the counterconventional\n",
            "mindsets of entrepreneurs. So I want to tell you\n",
            "about these mindsets today, and here we go. So, number one, why do I call them counterconventional? First, these six mindsets run counter to the best practices, as we call them,\n",
            "that are done in big companies today. They fly in the face of much\n",
            "of what we teach at London Business School and other business schools about strategy, about marketing,\n",
            "about risk and about much more. Now, you might say, “John, what do you mean by ‘mindset?’” A mindset, of course, is up here, right? It's those things, attitudes, habits,\n",
            "thoughts, mental inclination which, when something comes our way, predetermines the response we make\n",
            "to that something that comes our way, and those somethings,\n",
            "as we entrepreneurs call them, are opportunities. So I want to tell you\n",
            "about these six mindsets, and the first one, I call \"Yes, we can.\" Now, B-school strategy 101\n",
            "says the following: what we're supposed to do, in a company,\n",
            "is stick to our knitting. We've got to figure out\n",
            "what we're really good at -- we call them core competencies -- and we've got to build on them,\n",
            "invest in them, nurture them, make them more robust. And if somebody comes along and says, “Can you do something different,\n",
            "that’s outside of that?” what are we supposed to say? \"No, I'm sorry,\n",
            "we don't do that around here.\" Well ... A Brazilian entrepreneur\n",
            "named Arnold Correia built a wonderful business that, today,\n",
            "is called Atmo Digital, by disregarding those rules. He'd already reinvented\n",
            "his business twice, to become a major provider of event management\n",
            "and production services, when one of his customers said to him, \"You know, I have 260 stores\n",
            "scattered all around Brazil,\" and Brazil is a big country, \"and I'd like to be able to broadcast\n",
            "training and motivational events to the stores in real time. So, Arnold, could we put televisions\n",
            "in the training room of all my stores, and could we build a satellite uplink so we can send all this wonderful\n",
            "stuff to the stores?\" So what did he say? He said, “Yes, we could do that,” even though he knew nothing\n",
            "about satellite technology, had never operated outside São Paulo, but he got it done. Then, several years later, some of the other customers, one of them\n",
            "in particular, Walmart, said, “You know, it’s nice that we have\n",
            "all of these television screens in the back room of the store, but wouldn't it be cool\n",
            "if we had them on the sales floor? Because then, we could run advertising, so when the customer\n",
            "walks down the aisle for detergent, perhaps there's an ad\n",
            "for Procter and Gamble's detergent in that aisle?\" And what did Arnold say to that request? \"Yes, we can do that.\" Over a period of years, Arnold reinvented\n",
            "his business, fundamentally, four different times, by saying, when a customer\n",
            "wanted something new that lay outside of his core competencies, \"Yes, we can.\" The second one I want to tell you about, I call \"problem-first,\n",
            "not product-first logic.\" So in big companies today,\n",
            "it's all about the products. So while I'm in the US, my family and I have used Tide,\n",
            "for many years, to wash our clothes. And we get a chuckle, every now and then, because we can tell\n",
            "a new brand manager has come along, because what happens,\n",
            "they change the product, right? They take the blue speckles out of it and turn them green. And they call it \"new, improved.\" Is this innovation, guys? I'm not so sure. Coca-Cola, what is there? There was Classic Coke,\n",
            "and then, there was New Coke. That didn't work out too well. Then, there was Diet Coke, Coke Zero\n",
            "and Vanilla Coke and Cherry Coke, lots of Cokes. I don't think this\n",
            "is what innovation is all about. But for entrepreneurs, we don't focus on products,\n",
            "we focus on problems. A guy named Jonathan Thorne developed a technology\n",
            "that did something very useful. This instrument you see in front of you\n",
            "is called a surgical forceps. It's the tool that almost every surgeon, in any kind of medical discipline, uses to do his or her work. But there's a problem\n",
            "with these surgical forceps -- they stick to human tissue. So imagine you're having a facelift, and the plastic surgeon\n",
            "is doing the final touches, but the tissue sticks to the forceps. Maybe it's not going to look\n",
            "quite as good as it was supposed to look. And maybe the plastic surgeon\n",
            "is going to get a little frustrated, and it's going to take longer\n",
            "to do the work. And John said, \"You know, that's a problem\n",
            "I think I can solve,\" with a new silver-nickel alloy\n",
            "that he had developed. It turned out the business\n",
            "didn't grow very fast, focusing on plastic surgeons. So he said, \"I wonder\n",
            "if there's another surgical specialty that has an even bigger problem\n",
            "that I could solve,\" and he discovered one,\n",
            "and that's neurosurgeons. And neurosurgeons work\n",
            "in two places on our bodies, in our spines and in our brain. So I hope you never have brain surgery, and I hope I never have it, but if they have to take\n",
            "a little tumor out, I hope the forceps don't stick\n",
            "to some other tissues, because I kind of want to keep\n",
            "all the brain cells I can, right? John Thorne built a fantastic business, sold it some years later to Stryker. Stryker is very happy, John and his investors are very happy too. Why? Because John focused\n",
            "on solving problems, not on thinking about products. The next one, I call it\n",
            "“think narrow, not broad.” Like John Thorne, an entrepreneur I’m going\n",
            "to tell you about focused on a problem but thought very narrowly\n",
            "about the target market. But the big-company wisdom\n",
            "doesn’t want narrow target markets, it wants big target markets, right? Because you've got to move the needle. Why would a big company\n",
            "mess around with something small? Like John Thorne, Philip Knight and Bill Bowerman,\n",
            "when they founded Nike, a company we all know very well today, had identified a problem, but it was a problem\n",
            "that a very narrow target market had. Phil Knight was a runner,\n",
            "a distance runner, and he could run almost, not quite,\n",
            "a four-minute mile, and Bill Bowerman was his track coach. And there was a problem with their shoes, because running shoes, in those days,\n",
            "were really made for sprinters. And when sprinters train,\n",
            "they run around the track. It's a nice, smooth track. But distance runners\n",
            "don't run around tracks. Where do they run? They run on country paths and dirt roads, and they're always stepping\n",
            "on sticks and rocks, and so they get sprained ankles. And they run mile after mile after mile, and they get shin splints. Well, Knight and Bowerman said, \"We need better shoes, shoes that are made especially\n",
            "for distance runners, especially elite distance runners,\n",
            "who really train a whole lot. So we're going to build a better shoe that's going to have\n",
            "better lateral stability, a wider footbed. It's going to have\n",
            "a little more cushioning in it, to protect against those shin splints -- and by the way,\n",
            "if it's a little bit lighter-weight, a few ounces lighter, times all the steps in running\n",
            "a mile, or a two-mile, or a marathon, it’s going to make\n",
            "for faster race times too.” So we know what happened with Nike, right? Once they developed the skills to design shoes explicitly made\n",
            "for a target market, a narrow one, and once they learned\n",
            "to import those shoes from Asia, and once they learned\n",
            "to get athletes to adopt those shoes, what did they do? Well, John McEnroe in tennis, Michael Jordan in basketball came next, and we know what the story is\n",
            "with Nike today. They're the global leader\n",
            "in athletic footwear and much more. OK, the next one -- “asking for the cash,\n",
            "and riding the float.” Big companies today are awash in cash. Even in these tricky times\n",
            "we are in today, there is cash all over the place, right? Merck, in 2018, spent all this money giving money back to shareholders\n",
            "through stock buybacks and dividends, and they could only find\n",
            "10 billion worth of R and D to do, with all that cash. Is something wrong here? I think this just doesn't feel right. But for entrepreneurs\n",
            "like Elon Musk and the Tesla team, cash is the lifeblood\n",
            "of the entrepreneurial venture. So when Musk joined the Tesla team, he said, \"What's the plan here?\" And that team had a plan, and it was to build\n",
            "a really fancy sports car, make a lot of money from that one, use that money to build\n",
            "a somewhat lower-priced car, make some money from that one, and then, we're going to build\n",
            "a mass-market car that more people can afford. And in so doing, we're going to make a real dent\n",
            "in the emissions problem that the global automobile\n",
            "industry creates. Well, what Musk said is, \"Let's go see if we can sell some cars.\" So ... they did a little road show in California, and they invited people,\n",
            "on this little road show, with three characteristics. Number one, they cared\n",
            "about the environment. Number two, they were wealthy. And number three,\n",
            "they thought it might be cool to have the next big thing\n",
            "parked in their driveway. Well, guess what? They sold 100 Tesla Roadsters\n",
            "for 100,000 dollars each, cash on the barrelhead, paid tonight. How much? Do the math. How much money have they got\n",
            "to start building Roadsters? 10 million US dollars\n",
            "in the bank, in cash, before they had built Roadster number one. That principle has carried Tesla\n",
            "all the way through its journey. So when they introduced\n",
            "the Model 3, several years ago, nearly half a million consumers\n",
            "put down deposits of 1,000 dollars each. Do that math. Half a million consumers,\n",
            "1,000 dollars each -- half a billion dollars,\n",
            "in the bank, in cash, with which to begin doing the engineering, build the tooling,\n",
            "fit out the factory and more. Wouldn't you like to build\n",
            "your entrepreneurial venture with that kind of business model? OK, the next one. I call it “beg, borrow,\n",
            "but please, please don’t steal.” In B-school finance, we teach our students how to analyze\n",
            "whether a project's any good. So you figure out how much\n",
            "investment you have to do, and then, you figure out\n",
            "what the cash flow is going to be, going forward, year after year,\n",
            "for five years, 10 years or whatever. And then, you ask yourself, \"Well, is that return\n",
            "on that investment sufficient?\" And if the ROI is good enough,\n",
            "then you do the project. That's the idea. But for Tristram Mayhew,\n",
            "and Rebecca Mayhew, his wife, who built a wonderful business\n",
            "in the UK, called Go Ape, a treetop adventure business, they didn't think that way at all. They said, \"We want to build\n",
            "a treetop adventure business, here in the UK.\" They'd seen one in France,\n",
            "that they liked, on a vacation. \"So where can we get some trees?\" Well ... Who's got trees in the UK? It turns out the UK Forestry Commission\n",
            "has trees in the UK, lots of them, in all these Forestry Commission sites, and the Forestry Commission\n",
            "was very interested in increasing their visitor count. Well, what better way\n",
            "to increase their visitor count than to have a Go Ape\n",
            "treetop adventure course on their land? So what Tris and Becs\n",
            "essentially did was go to the Forestry Commission and say, \"Look, if you'll give us a chance to build\n",
            "five of these and show you that it works, we'd like an exclusive\n",
            "for the rest of them, for 25 years.\" The deal was done. Today, there are more than 30\n",
            "Go Ape adventure sites across the UK, there are a whole bunch of them in the US, and how did that happen? Because they borrowed\n",
            "most of the assets they needed. They borrowed the trees, they borrowed the loos,\n",
            "they borrowed the parking lots, all that stuff. All they had to do\n",
            "was put their kit on the trees. Pretty cool. Now, entrepreneurs and permission\n",
            "are kind of like oil and water. If you're an entrepreneur,\n",
            "you kind of know that, right? But in a big company today, if you want to get something new done,\n",
            "something entrepreneurial, something that’s maybe\n",
            "a little different than the norm, you’ve got to pass it\n",
            "through the lawyers first. Because there are a lot\n",
            "of regulations everywhere, and you don't want to do something\n",
            "that's going to land a top exec in jail. So it's really hard to get a \"yes\" answer to doing something\n",
            "that's new and innovative, and it takes a long time. But it’s really easy to get a “no.” For entrepreneurs, however, like Travis Kalanick and Garrett Camp, who founded Uber, do you think they would have been\n",
            "wise to ask the permission of the San Francisco regulators? \"Can we start a taxi company\n",
            "without any taxis?\" No, maybe not, right? Because, had they asked, what do you think\n",
            "the regulators would have said? \"There's no way you're going to do that. That's going to threaten\n",
            "the current taxi industry.\" So entrepreneurs don't ask permission, they just get on with it. Now, I don't condone\n",
            "many of the things that Uber did, along their journey, many of them unethical,\n",
            "some of them, probably, illegal. But the principle of entrepreneurs\n",
            "just getting on with it, when the regulations\n",
            "are perhaps ambiguous or haven't considered\n",
            "what could be done today, digitally, that's when you get on with it. OK, so I want to close\n",
            "with four questions for you. Question number one: Which of these mindsets\n",
            "are embodied in you today -- maybe one or two of them already? Question number two: Which of the others can you learn? Are these learnable? I think they are. Question number three: Can you teach these\n",
            "to somebody you work with, who has some challenges\n",
            "for which these mindsets might help? And, more pertinently today: Is there a challenge you face today for which one of these mindsets,\n",
            "or a couple of them, might help you get beyond the roadblocks\n",
            "you're facing with that challenge? OK, so there we go. Six counterconventional,\n",
            "break-the-rules mindsets that can help anyone, maybe you, change the world.\n"
          ]
        }
      ]
    },
    {
      "cell_type": "code",
      "source": [
        "# Resumen de la transcripción traducida con los puntos clave\n",
        "response = model.generate_content(prompt + transcript)\n",
        "print(response.text)"
      ],
      "metadata": {
        "colab": {
          "base_uri": "https://localhost:8080/",
          "height": 349
        },
        "id": "awV-R5nHSdE_",
        "outputId": "877a4906-12ed-4b33-f382-1a5c1c144fde"
      },
      "execution_count": 15,
      "outputs": [
        {
          "output_type": "stream",
          "name": "stdout",
          "text": [
            "## Resumen del vídeo: Mentalidades Emprendedoras No Convencionales\n",
            "\n",
            "Este vídeo analiza seis mentalidades contrarias a las prácticas convencionales de las grandes empresas, esenciales para el éxito emprendedor, ejemplificadas con historias de éxito como Lynda.com (Lynda Weinman) y Nike (Phil Knight y Bill Bowerman).  Las mentalidades clave son:\n",
            "\n",
            "* **\"Sí, podemos\":**  A diferencia de la estrategia empresarial tradicional que busca enfocarse en competencias centrales, esta mentalidad impulsa a aceptar nuevos retos fuera de la zona de confort, como lo hizo Arnold Correia con Atmo Digital.\n",
            "\n",
            "* **Lógica \"problema-primero, no producto-primero\":**  En lugar de centrarse en mejorar productos existentes, se prioriza la solución de problemas. Jonathan Thorne, con sus fórceps quirúrgicos, es un ejemplo de esto.\n",
            "\n",
            "* **\"Pensar estrecho, no amplio\":**  Enfocarse en un nicho de mercado específico, como hicieron Knight y Bowerman al crear zapatillas para corredores de larga distancia, puede ser más efectivo que intentar abarcar un mercado amplio desde el principio.\n",
            "\n",
            "* **\"Pedir el dinero y usar el flujo\":**  Utilizar la pre-venta o depósitos anticipados para financiar el proyecto, como lo hizo Tesla con el Model 3,  reduce la dependencia de financiación externa.\n",
            "\n",
            "* **\"Pedir, pedir prestado, pero por favor, no robar\":**  Buscar recursos y colaboraciones estratégicas, como hicieron Tris y Becs con Go Ape, aprovechando activos existentes (árboles, estacionamientos) para minimizar la inversión inicial.\n",
            "\n",
            "* **No pedir permiso:**  Los emprendedores a menudo prosperan al actuar antes que buscar la aprobación, como Uber, aunque esto conlleva riesgos.\n",
            "\n",
            "El vídeo concluye con una invitación a la reflexión sobre qué mentalidades ya se poseen, cuáles se pueden aprender, y cómo aplicarlas para superar obstáculos actuales.\n",
            "\n"
          ]
        }
      ]
    }
  ]
}